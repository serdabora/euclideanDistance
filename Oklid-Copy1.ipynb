{
 "cells": [
  {
   "cell_type": "code",
   "execution_count": 1,
   "id": "17197592-6fae-450f-97d1-5917ab83ef25",
   "metadata": {},
   "outputs": [
    {
     "data": {
      "text/plain": [
       "([2.8284271247461903,\n",
       "  5.656854249492381,\n",
       "  8.48528137423857,\n",
       "  11.313708498984761,\n",
       "  2.8284271247461903,\n",
       "  5.656854249492381,\n",
       "  8.48528137423857,\n",
       "  2.8284271247461903,\n",
       "  5.656854249492381,\n",
       "  2.8284271247461903],\n",
       " 2.8284271247461903)"
      ]
     },
     "execution_count": 1,
     "metadata": {},
     "output_type": "execute_result"
    }
   ],
   "source": [
    "import math\n",
    "\n",
    "# Points listesinin oluşturulması\n",
    "points = [(1, 2), (3, 4), (5, 6), (7, 8), (9, 10)]\n",
    "\n",
    "# Iki nokta arasındaki oklid mesafesinin bulunması\n",
    "def euclideanDistance(point1, point2):\n",
    "    return math.sqrt((point2[0] - point1[0])**2 + (point2[1] - point1[1])**2)\n",
    "\n",
    "# Tum uzaklıkların bulunması ve listeye eklenmesi\n",
    "distances = []\n",
    "for i in range(len(points)):\n",
    "    for j in range(i + 1, len(points)):\n",
    "        dist = euclideanDistance(points[i], points[j])\n",
    "        distances.append(dist)\n",
    "\n",
    "# En kucuk uzaklıgın bulunması\n",
    "min_distance = min(distances)\n",
    "\n",
    "distances, min_distance"
   ]
  },
  {
   "cell_type": "code",
   "execution_count": null,
   "id": "c09b88fc-39a3-4a61-a919-949e964d43ab",
   "metadata": {},
   "outputs": [],
   "source": []
  }
 ],
 "metadata": {
  "kernelspec": {
   "display_name": "Python 3 (ipykernel)",
   "language": "python",
   "name": "python3"
  },
  "language_info": {
   "codemirror_mode": {
    "name": "ipython",
    "version": 3
   },
   "file_extension": ".py",
   "mimetype": "text/x-python",
   "name": "python",
   "nbconvert_exporter": "python",
   "pygments_lexer": "ipython3",
   "version": "3.12.4"
  }
 },
 "nbformat": 4,
 "nbformat_minor": 5
}
